{
 "cells": [
  {
   "cell_type": "markdown",
   "metadata": {
    "id": "nhK6mEZD5duG"
   },
   "source": [
    "# Séries"
   ]
  },
  {
   "cell_type": "markdown",
   "metadata": {
    "id": "jDFIlB9H5duK"
   },
   "source": [
    "**OBJETIVO**: O objetivo deste notebook é apresentar o objeto série e suas principais funcionalidades"
   ]
  },
  {
   "cell_type": "markdown",
   "metadata": {
    "id": "lgK-hdeI5duL"
   },
   "source": [
    "---"
   ]
  },
  {
   "cell_type": "code",
   "execution_count": null,
   "metadata": {
    "ExecuteTime": {
     "end_time": "2021-12-28T13:27:20.309453Z",
     "start_time": "2021-12-28T13:27:19.971828Z"
    },
    "colab": {
     "base_uri": "https://localhost:8080/"
    },
    "executionInfo": {
     "elapsed": 340,
     "status": "ok",
     "timestamp": 1643563667890,
     "user": {
      "displayName": "Ignorância Zero",
      "photoUrl": "https://lh3.googleusercontent.com/a/default-user=s64",
      "userId": "00329270583361032720"
     },
     "user_tz": 180
    },
    "id": "rd7CrW0E5duN",
    "outputId": "a1d6b942-850d-48a3-b5ec-50aacba8b196"
   },
   "outputs": [],
   "source": [
    "import os\n",
    "import numpy as np\n",
    "import pandas as pd\n",
    "\n",
    "from pathlib import Path\n",
    "\n",
    "%config Completer.use_jedi = False"
   ]
  },
  {
   "cell_type": "markdown",
   "metadata": {
    "id": "1Hfd3ztV5duS"
   },
   "source": [
    "---"
   ]
  },
  {
   "cell_type": "markdown",
   "metadata": {
    "id": "EYP5Hn6e5dug"
   },
   "source": [
    "## Criação "
   ]
  },
  {
   "cell_type": "markdown",
   "metadata": {
    "id": "3MBhhda4h_Kn"
   },
   "source": [
    "Como mostramos anteriormente séries são as estruturas que utilizamos para representar uma coluna numa tabela de dados, que é definida por 4 elementos:\n",
    "\n",
    "- index: Os nomes de cada dado dentro da série\n",
    "- values: Os dados em si que a série armazena \n",
    "- name: O nome da série (ou da coluna)\n",
    "- dtype: Os tipos de dados armazenados da série\n",
    "\n",
    "<img src=\"https://www.w3resource.com/w3r_images/pandas-series-add-image-1.svg\" />\n",
    "\n"
   ]
  },
  {
   "cell_type": "code",
   "execution_count": null,
   "metadata": {},
   "outputs": [],
   "source": [
    "df = read_csv()"
   ]
  },
  {
   "cell_type": "markdown",
   "metadata": {
    "id": "RzuNw7iIh_Ko"
   },
   "source": [
    "Os elementos descritos acima podem ser acessados como atributos da série"
   ]
  },
  {
   "cell_type": "code",
   "execution_count": null,
   "metadata": {},
   "outputs": [],
   "source": []
  },
  {
   "cell_type": "markdown",
   "metadata": {
    "id": "V2p0wEmwh_Kq"
   },
   "source": [
    "Ao mesmo tempo, também conseguimos obter as propridades do array de dados da série pela própria série em si"
   ]
  },
  {
   "cell_type": "code",
   "execution_count": null,
   "metadata": {},
   "outputs": [],
   "source": []
  },
  {
   "cell_type": "markdown",
   "metadata": {
    "id": "zQjGWL3ch_Ks"
   },
   "source": [
    "Séries podem ser criadas a partir de múltiplos tipos de objetos distintos"
   ]
  },
  {
   "cell_type": "code",
   "execution_count": null,
   "metadata": {},
   "outputs": [],
   "source": []
  },
  {
   "cell_type": "markdown",
   "metadata": {
    "id": "0bQ950nGh_Ku"
   },
   "source": [
    "---"
   ]
  },
  {
   "cell_type": "markdown",
   "metadata": {
    "id": "GDORDEbUh_Ku"
   },
   "source": [
    "**Exercício**\n",
    "\n",
    "Represente a gráfico abaixo como uma série, na qual os paises são os índices e os casos são os dados.\n",
    "\n",
    "<img src=\"http://cdn.statcdn.com/Infographic/images/normal/21176.jpeg\" width=300 height=600/>"
   ]
  },
  {
   "cell_type": "code",
   "execution_count": null,
   "metadata": {
    "id": "0GTBcjVmh_Ku",
    "solution2": "hidden",
    "solution2_first": true
   },
   "outputs": [],
   "source": []
  },
  {
   "cell_type": "code",
   "execution_count": null,
   "metadata": {
    "cellView": "form",
    "id": "ejqGAxZzh_Ku",
    "solution2": "hidden"
   },
   "outputs": [],
   "source": [
    "#@title Resposta\n",
    "pd.Series({\n",
    "    \"Belgium\": 39166,\n",
    "    \"Israel\": 35572,\n",
    "    \"Czechia\": 33103,\n",
    "    \"Panama\": 32300,\n",
    "    \"Kuwait\": 30957,\n",
    "    \"United States\": 28414,\n",
    "    \"Peru\": 28213,\n",
    "    \"Chile\": 27455,\n",
    "    \"Argentina\": 26593,\n",
    "    \"Spain\": 26554\n",
    "})"
   ]
  },
  {
   "cell_type": "markdown",
   "metadata": {
    "id": "LYg_QVwoh_Kv"
   },
   "source": [
    "---"
   ]
  },
  {
   "cell_type": "markdown",
   "metadata": {
    "id": "mjMpz1m35dug"
   },
   "source": [
    "## Indexação "
   ]
  },
  {
   "cell_type": "markdown",
   "metadata": {
    "id": "nvjy0qq0h_Kv"
   },
   "source": [
    "Séries, diferente de arrays e listas, além de poderem ser indexadas pelo número do índice, também podem ser indexadas pelo nome do mesmo"
   ]
  },
  {
   "cell_type": "code",
   "execution_count": null,
   "metadata": {},
   "outputs": [],
   "source": []
  },
  {
   "cell_type": "markdown",
   "metadata": {
    "id": "3bgqJGCTh_Kw"
   },
   "source": [
    "Entretanto, o que acontece se os índices da série também forem números?"
   ]
  },
  {
   "cell_type": "code",
   "execution_count": null,
   "metadata": {},
   "outputs": [],
   "source": []
  },
  {
   "cell_type": "markdown",
   "metadata": {
    "id": "d3WnPq8jh_Kx"
   },
   "source": [
    "Veja que neste caso ao procurar o valor 0 a série deu um erro, pois não existe um índice de nome zero. Desta forma, no caso de índices de séries nomeados como números a série nos obriga a procurar o nome daquele índice"
   ]
  },
  {
   "cell_type": "code",
   "execution_count": null,
   "metadata": {},
   "outputs": [],
   "source": []
  },
  {
   "cell_type": "markdown",
   "metadata": {
    "id": "3IrtZ2Ivh_Kx"
   },
   "source": [
    "Porém, nós ainda conseguimos encontrar os valores da série pelo número do índice utilizando a sintaxe do .iloc"
   ]
  },
  {
   "cell_type": "code",
   "execution_count": null,
   "metadata": {},
   "outputs": [],
   "source": []
  },
  {
   "cell_type": "markdown",
   "metadata": {
    "id": "rLPj26VUh_Kx"
   },
   "source": [
    "Essa sintaxe vai aceitar as mesmas funcionalidades de indexação que listas e arrays. Desta forma, independente de como os índices das séries forem construídos recomendamos sempre utilizar o nome dos itens para a sintaxe de chaves e o .iloc caso esteja procurando pelo número do índice"
   ]
  },
  {
   "cell_type": "code",
   "execution_count": null,
   "metadata": {},
   "outputs": [],
   "source": []
  },
  {
   "cell_type": "markdown",
   "metadata": {
    "id": "M2OpSZFZh_Ky"
   },
   "source": [
    "É interessante notar que séries também aceitam slicing, só que não só pelo número como também pelo nome"
   ]
  },
  {
   "cell_type": "code",
   "execution_count": null,
   "metadata": {},
   "outputs": [],
   "source": []
  },
  {
   "cell_type": "markdown",
   "metadata": {
    "id": "fmpFo4_th_Kz"
   },
   "source": [
    "Tal como arrays podemos alterar os valores da série selecionando os índices que desejamos alterar"
   ]
  },
  {
   "cell_type": "code",
   "execution_count": null,
   "metadata": {},
   "outputs": [],
   "source": []
  },
  {
   "cell_type": "markdown",
   "metadata": {
    "id": "TnBL2pj4h_Kz"
   },
   "source": [
    "É interessante notar que por padrão nunca alteramos o objeto de origem da série, mas a alteração do slice gerará alteração na série original"
   ]
  },
  {
   "cell_type": "code",
   "execution_count": null,
   "metadata": {},
   "outputs": [],
   "source": []
  },
  {
   "cell_type": "markdown",
   "metadata": {
    "id": "krwtpC90h_Kz"
   },
   "source": [
    "Tal como arrays, listas e dicionários ao passar uma série para uma função você a passa como referência, de forma que ela será copiada"
   ]
  },
  {
   "cell_type": "code",
   "execution_count": null,
   "metadata": {},
   "outputs": [],
   "source": []
  },
  {
   "cell_type": "markdown",
   "metadata": {
    "id": "g_I0QUINUxDU"
   },
   "source": [
    "---"
   ]
  },
  {
   "cell_type": "markdown",
   "metadata": {
    "id": "zl_KOkQSUxDU"
   },
   "source": [
    "**Exercício**\n",
    "\n",
    "Abaixo carregamos uma série de dados com o número de casos de COVID registrados por país na data mais recente. \n",
    "\n",
    "Cada país é representadado por um código ISO de 3 letras, entretanto, dentro dessa série há alguns códigos que começam com \"OWID_\", que representam grupos de países não oficiais. Por exemplo, \"OWID_AFR\" representa todos os países da áfrica. \n",
    "\n",
    "Para os países que começam com \"OWID_\" troque o valor registrado por np.nan"
   ]
  },
  {
   "cell_type": "code",
   "execution_count": null,
   "metadata": {
    "ExecuteTime": {
     "end_time": "2021-12-28T13:32:00.666589Z",
     "start_time": "2021-12-28T13:32:00.522973Z"
    },
    "id": "KGx7D-5eUxDU",
    "solution2": "hidden",
    "solution2_first": true
   },
   "outputs": [],
   "source": [
    "serie_owid = pd.read_csv(\n",
    "    \"https://raw.githubusercontent.com/owid/covid-19-data/master/public/data/latest/owid-covid-latest.csv\"\n",
    ").set_index(\"iso_code\")[\"total_cases\"]"
   ]
  },
  {
   "cell_type": "code",
   "execution_count": null,
   "metadata": {
    "ExecuteTime": {
     "end_time": "2021-12-28T13:33:05.173336Z",
     "start_time": "2021-12-28T13:33:04.964369Z"
    },
    "cellView": "form",
    "id": "i55TbjZqUxDU",
    "solution2": "hidden"
   },
   "outputs": [],
   "source": [
    "#@title Resposta\n",
    "serie_owid = pd.read_csv(\n",
    "    \"https://raw.githubusercontent.com/owid/covid-19-data/master/public/data/latest/owid-covid-latest.csv\"\n",
    ").set_index(\"iso_code\")[\"total_cases\"]\n",
    "\n",
    "anular = [s for s in serie_owid.index if s.startswith(\"OWID_\")]\n",
    "serie_owid[anular] = np.nan\n",
    "serie_owid"
   ]
  },
  {
   "cell_type": "markdown",
   "metadata": {
    "id": "vSg3JCVTh_K0"
   },
   "source": [
    "---"
   ]
  },
  {
   "cell_type": "markdown",
   "metadata": {
    "id": "fxEy04sg5duh"
   },
   "source": [
    "## Operações "
   ]
  },
  {
   "cell_type": "markdown",
   "metadata": {
    "id": "pn8Rewu5h_K0"
   },
   "source": [
    "Tal como arrays, séries vem recheadas de operações matemáticas clássicas que podem ser aplicadas entre séries. Entretanto, diferente arrays onde fazemos o match dos índices ou o broadcasting de um array em outro, séries esperam que ocorre o match dos nomes de índices para funcionar"
   ]
  },
  {
   "cell_type": "code",
   "execution_count": null,
   "metadata": {},
   "outputs": [],
   "source": []
  },
  {
   "cell_type": "markdown",
   "metadata": {
    "id": "qv9DsCk0h_K1"
   },
   "source": [
    "Veja que ao tentar somar as séries onde os índices não batem nós iremos produzir uma série com todos os índices combinados, isto acontece porque antes da operação o pandas cria os índices faltantes em cada uma das séries e preenche os valores desses índices com nulos. Dado que o resultado da operação de soma de NaN + Número = NaN este é o valor que obtemos"
   ]
  },
  {
   "cell_type": "code",
   "execution_count": null,
   "metadata": {},
   "outputs": [],
   "source": []
  },
  {
   "cell_type": "markdown",
   "metadata": {
    "id": "8u1aPrsxh_K1"
   },
   "source": [
    "Todas as principais operações matemáticas são suportadas por séries"
   ]
  },
  {
   "cell_type": "markdown",
   "metadata": {
    "id": "e0rlvegPh_K1"
   },
   "source": [
    "Soma"
   ]
  },
  {
   "cell_type": "code",
   "execution_count": null,
   "metadata": {},
   "outputs": [],
   "source": []
  },
  {
   "cell_type": "markdown",
   "metadata": {
    "id": "GqlcZ4-kh_K3"
   },
   "source": [
    "Subtração"
   ]
  },
  {
   "cell_type": "code",
   "execution_count": null,
   "metadata": {},
   "outputs": [],
   "source": []
  },
  {
   "cell_type": "markdown",
   "metadata": {
    "id": "aHtrP5fXh_K3"
   },
   "source": [
    "Multiplicação"
   ]
  },
  {
   "cell_type": "code",
   "execution_count": null,
   "metadata": {},
   "outputs": [],
   "source": []
  },
  {
   "cell_type": "markdown",
   "metadata": {
    "id": "OiXVEmuTh_K4"
   },
   "source": [
    "Multiplicação (produto vetorial)"
   ]
  },
  {
   "cell_type": "code",
   "execution_count": null,
   "metadata": {},
   "outputs": [],
   "source": []
  },
  {
   "cell_type": "markdown",
   "metadata": {
    "id": "nqmyCaqbh_K4"
   },
   "source": [
    "Divisão"
   ]
  },
  {
   "cell_type": "code",
   "execution_count": null,
   "metadata": {},
   "outputs": [],
   "source": []
  },
  {
   "cell_type": "markdown",
   "metadata": {
    "id": "CiI_Y8gmh_K5"
   },
   "source": [
    "Exponenciação"
   ]
  },
  {
   "cell_type": "code",
   "execution_count": null,
   "metadata": {},
   "outputs": [],
   "source": []
  },
  {
   "cell_type": "markdown",
   "metadata": {
    "id": "HmsbXHvMh_K5"
   },
   "source": [
    "---"
   ]
  },
  {
   "cell_type": "markdown",
   "metadata": {
    "id": "5ZGl6LVmh_K5"
   },
   "source": [
    "**Exercício**\n",
    "\n",
    "Calcule a distância euclidiana entre duas séries"
   ]
  },
  {
   "cell_type": "code",
   "execution_count": null,
   "metadata": {
    "ExecuteTime": {
     "end_time": "2021-09-20T12:31:39.740441Z",
     "start_time": "2021-09-20T12:31:39.726502Z"
    },
    "id": "LOqT7_Tth_K6",
    "solution2": "hidden",
    "solution2_first": true
   },
   "outputs": [],
   "source": [
    "p = pd.Series([1, 2, 3, 4, 5, 6, 7, 8, 9, 10])\n",
    "q = pd.Series([10, 9, 8, 7, 6, 5, 4, 3, 2, 1])"
   ]
  },
  {
   "cell_type": "code",
   "execution_count": null,
   "metadata": {
    "cellView": "form",
    "id": "7wZ6Aw6Zh_K6",
    "solution2": "hidden"
   },
   "outputs": [],
   "source": [
    "#@title Resposta\n",
    "p = pd.Series([1, 2, 3, 4, 5, 6, 7, 8, 9, 10])\n",
    "q = pd.Series([10, 9, 8, 7, 6, 5, 4, 3, 2, 1])\n",
    "(p - q).dot(p - q) ** 0.5"
   ]
  },
  {
   "cell_type": "markdown",
   "metadata": {
    "id": "zY70hyR4h_K6"
   },
   "source": [
    "---"
   ]
  },
  {
   "cell_type": "markdown",
   "metadata": {
    "id": "UHu5ewtvh_K6"
   },
   "source": [
    "## Filtros "
   ]
  },
  {
   "cell_type": "markdown",
   "metadata": {
    "id": "fvXh-aBMh_K6"
   },
   "source": [
    "Tal como arrays, nós podemos comparar uma série vs algum valor numérico ou até mesmo contra uma segunda série, e o que receberemos é uma série de booleanos utilizando os índices da série original"
   ]
  },
  {
   "cell_type": "code",
   "execution_count": null,
   "metadata": {},
   "outputs": [],
   "source": []
  },
  {
   "cell_type": "markdown",
   "metadata": {
    "id": "vTKMQp7Hh_K7"
   },
   "source": [
    "Da mesma forma, podemos combinar expressões utilizando &/|/~ e ()"
   ]
  },
  {
   "cell_type": "code",
   "execution_count": null,
   "metadata": {},
   "outputs": [],
   "source": []
  },
  {
   "cell_type": "markdown",
   "metadata": {
    "id": "B4Fe9NiPh_K7"
   },
   "source": [
    "E utilizamos a mesma sintaxe de chaves para fazer filtros"
   ]
  },
  {
   "cell_type": "code",
   "execution_count": null,
   "metadata": {},
   "outputs": [],
   "source": []
  },
  {
   "cell_type": "markdown",
   "metadata": {
    "id": "dCxeOYMMh_K7"
   },
   "source": [
    "É importante destacar que a sintaxe acima espera que haja equivalência entre a série de booleanos usada como filtro e a série sendo filtrada, de forma que se não houver esse pareamento receberemos um erro de índices"
   ]
  },
  {
   "cell_type": "code",
   "execution_count": null,
   "metadata": {},
   "outputs": [],
   "source": []
  },
  {
   "cell_type": "markdown",
   "metadata": {
    "id": "jO7nxsGRh_K8"
   },
   "source": [
    "Apesar de ser possível fazer o filtro de uma série em outra, é extramemente desacomselhado a não ser que você tenha muita segurança no que está fazendo"
   ]
  },
  {
   "cell_type": "code",
   "execution_count": null,
   "metadata": {},
   "outputs": [],
   "source": []
  },
  {
   "cell_type": "markdown",
   "metadata": {
    "id": "t0uMr2pNh_K8"
   },
   "source": [
    "De maneira análoga ao numpy, também temos os métodos de any e all"
   ]
  },
  {
   "cell_type": "code",
   "execution_count": null,
   "metadata": {},
   "outputs": [],
   "source": []
  },
  {
   "cell_type": "markdown",
   "metadata": {
    "id": "syyv_YQ2h_K9"
   },
   "source": [
    "Mas além da sintaxe tradicional, as séries ainda vem com alguns métodos adicionais que permitem fazer alguns filtros interessantes. Um que é muito utilizado, por exemplo, é o isin"
   ]
  },
  {
   "cell_type": "code",
   "execution_count": null,
   "metadata": {},
   "outputs": [],
   "source": []
  },
  {
   "cell_type": "markdown",
   "metadata": {
    "id": "_MHDLTGOh_K9"
   },
   "source": [
    "Para o caso de valores nulos, o pandas também consegue identifica-los a partir do método isnull"
   ]
  },
  {
   "cell_type": "code",
   "execution_count": null,
   "metadata": {},
   "outputs": [],
   "source": []
  },
  {
   "cell_type": "markdown",
   "metadata": {
    "id": "bmI5olsSh_K9"
   },
   "source": [
    "No pandas nós também utilizamos a sintaxe do where, mas especificamente séries o utilizam como um método que pode ser aplicado sobre os elementos do mesmo"
   ]
  },
  {
   "cell_type": "code",
   "execution_count": null,
   "metadata": {},
   "outputs": [],
   "source": []
  },
  {
   "cell_type": "markdown",
   "metadata": {
    "id": "XjE3Kqi7h_K-"
   },
   "source": [
    "Veja que muito diferente das séries de booleanos anteriores o where dentro do pandas não devolve os índices dos elementos onde a condição é verdadeira, mas utiliza a segunda funcionalidade do where, onde podemos, quando falso, substituir os valores pelo valor indicado"
   ]
  },
  {
   "cell_type": "code",
   "execution_count": null,
   "metadata": {},
   "outputs": [],
   "source": []
  },
  {
   "cell_type": "markdown",
   "metadata": {
    "id": "HPdFS3kuh_K-"
   },
   "source": [
    "---"
   ]
  },
  {
   "cell_type": "markdown",
   "metadata": {
    "id": "xRL9vV_bh_K-"
   },
   "source": [
    "**Exercício**\n",
    "\n",
    "Obtém os elementos da série 1 que não estão contidos na série 2"
   ]
  },
  {
   "cell_type": "code",
   "execution_count": null,
   "metadata": {
    "ExecuteTime": {
     "end_time": "2021-09-20T12:31:56.787119Z",
     "start_time": "2021-09-20T12:31:56.783156Z"
    },
    "id": "Ui6-Ypxwh_K-",
    "solution2": "hidden",
    "solution2_first": true
   },
   "outputs": [],
   "source": [
    "ser1 = pd.Series([1, 2, 3, 4, 5])\n",
    "ser2 = pd.Series([4, 5, 6, 7, 8])"
   ]
  },
  {
   "cell_type": "code",
   "execution_count": null,
   "metadata": {
    "cellView": "form",
    "id": "xz30WW_bh_K_",
    "solution2": "hidden"
   },
   "outputs": [],
   "source": [
    "#@title Resposta\n",
    "ser1 = pd.Series([1, 2, 3, 4, 5])\n",
    "ser2 = pd.Series([4, 5, 6, 7, 8])\n",
    "ser1[~ser1.isin(ser2.values)]"
   ]
  },
  {
   "cell_type": "markdown",
   "metadata": {
    "id": "eY7e1Hylh_K_"
   },
   "source": [
    "---"
   ]
  },
  {
   "cell_type": "markdown",
   "metadata": {
    "id": "fg-YVSqAh_K_"
   },
   "source": [
    "## Adição de Dados "
   ]
  },
  {
   "cell_type": "markdown",
   "metadata": {
    "id": "qUMMW672h_K_"
   },
   "source": [
    "Séries, tal como arrays, são imutáveis em tamanho, porém, de forma análoga, é possivel adicionar dados para as mesmas através das operações de append e concat"
   ]
  },
  {
   "cell_type": "markdown",
   "metadata": {
    "id": "_j0x80nih_K_"
   },
   "source": [
    "append -> adiciona dados ao final de uma série"
   ]
  },
  {
   "cell_type": "code",
   "execution_count": null,
   "metadata": {},
   "outputs": [],
   "source": []
  },
  {
   "cell_type": "markdown",
   "metadata": {
    "id": "sa-0zu0Lh_LA"
   },
   "source": [
    "Note que o resultado da operação é uma nova série com índices duplicados, uma vez que os dados foram empilhados. Uma operação muito comum quando se altera uma série dessa forma é o reset index"
   ]
  },
  {
   "cell_type": "code",
   "execution_count": null,
   "metadata": {},
   "outputs": [],
   "source": []
  },
  {
   "cell_type": "markdown",
   "metadata": {
    "id": "K5y-UJdJh_LA"
   },
   "source": [
    "Uma das partes mais interessantes do pandas é a possibilidade de executar operações \"inplace\". Para quase todos os métodos de uma série (que vimos até aqui e que veremos a frente) é possível executar um comando que ao invés de gerar uma nova série como visto anteriormente"
   ]
  },
  {
   "cell_type": "code",
   "execution_count": null,
   "metadata": {},
   "outputs": [],
   "source": []
  },
  {
   "cell_type": "markdown",
   "metadata": {
    "id": "MNoIJGDbh_LB"
   },
   "source": [
    "Outra maneira viável e mais simples, seria usando o parâmetro ignore_index"
   ]
  },
  {
   "cell_type": "code",
   "execution_count": null,
   "metadata": {},
   "outputs": [],
   "source": []
  },
  {
   "cell_type": "markdown",
   "metadata": {
    "id": "imkObvXoh_LB"
   },
   "source": [
    "---"
   ]
  },
  {
   "cell_type": "markdown",
   "metadata": {
    "id": "lGNO1pTih_LC"
   },
   "source": [
    "**Exercício**\n",
    "\n",
    "Adiciona a uma série os elementos de outra série que não estão contidos na primeira"
   ]
  },
  {
   "cell_type": "code",
   "execution_count": null,
   "metadata": {
    "ExecuteTime": {
     "end_time": "2021-09-20T12:32:04.536368Z",
     "start_time": "2021-09-20T12:32:04.526422Z"
    },
    "id": "Bmyu_rGQh_LC",
    "solution2": "hidden",
    "solution2_first": true
   },
   "outputs": [],
   "source": [
    "np.random.seed(42)\n",
    "serie1 = pd.Series(np.random.randint(0, 10, size=5))\n",
    "serie2 = pd.Series(np.random.randint(0, 10, size=5))"
   ]
  },
  {
   "cell_type": "code",
   "execution_count": null,
   "metadata": {
    "cellView": "form",
    "id": "euf-kDGqh_LC",
    "solution2": "hidden"
   },
   "outputs": [],
   "source": [
    "#@title Resposta\n",
    "np.random.seed(42)\n",
    "serie1 = pd.Series(np.random.randint(0, 10, size=5))\n",
    "serie2 = pd.Series(np.random.randint(0, 10, size=5))\n",
    "serie1.append(serie2[~serie2.isin(serie1.values)], ignore_index=True)"
   ]
  },
  {
   "cell_type": "markdown",
   "metadata": {
    "id": "30uYRaQsh_LC"
   },
   "source": [
    "---"
   ]
  },
  {
   "cell_type": "markdown",
   "metadata": {
    "id": "kRyOWoUah_LC"
   },
   "source": [
    "## Remoção de Dados "
   ]
  },
  {
   "cell_type": "markdown",
   "metadata": {
    "id": "oIcU7uK_h_LC"
   },
   "source": [
    "Além de adicionar dados em séries também é muito comum remover dados, em particular podemos remover um índice específico por meio do método drop"
   ]
  },
  {
   "cell_type": "code",
   "execution_count": null,
   "metadata": {},
   "outputs": [],
   "source": []
  },
  {
   "cell_type": "markdown",
   "metadata": {
    "id": "1seBv3yUh_LD"
   },
   "source": [
    "Além disso é bastante comum removermos os valores nulos de uma determinada série por meio do dropna"
   ]
  },
  {
   "cell_type": "code",
   "execution_count": null,
   "metadata": {},
   "outputs": [],
   "source": []
  },
  {
   "cell_type": "markdown",
   "metadata": {
    "id": "bfcFx04hh_LE"
   },
   "source": [
    "Por fim, outra operações muito comum é a de remover duplicatas de uma série"
   ]
  },
  {
   "cell_type": "code",
   "execution_count": null,
   "metadata": {},
   "outputs": [],
   "source": []
  },
  {
   "cell_type": "markdown",
   "metadata": {
    "id": "FG8Msh4aUxDi"
   },
   "source": [
    "---"
   ]
  },
  {
   "cell_type": "markdown",
   "metadata": {
    "id": "A7QQupmCUxDi"
   },
   "source": [
    "**Exercício**\n",
    "\n",
    "Abaixo carregamos uma série de dados com o número de casos de COVID registrados por país na data mais recente. \n",
    "\n",
    "Cada país é representadado por um código ISO de 3 letras, entretanto, dentro dessa série há alguns códigos que começam com \"OWID_\", que representam grupos de países não oficiais. Por exemplo, \"OWID_AFR\" representa todos os países da áfrica. \n",
    "\n",
    "Remova da série os países que começam com OWID"
   ]
  },
  {
   "cell_type": "code",
   "execution_count": null,
   "metadata": {
    "ExecuteTime": {
     "end_time": "2021-12-28T13:32:00.666589Z",
     "start_time": "2021-12-28T13:32:00.522973Z"
    },
    "id": "O_tfKJE-UxDi",
    "solution2": "hidden",
    "solution2_first": true
   },
   "outputs": [],
   "source": [
    "serie_owid = pd.read_csv(\n",
    "    \"https://raw.githubusercontent.com/owid/covid-19-data/master/public/data/latest/owid-covid-latest.csv\"\n",
    ").set_index(\"iso_code\")[\"total_cases\"]"
   ]
  },
  {
   "cell_type": "code",
   "execution_count": null,
   "metadata": {
    "ExecuteTime": {
     "end_time": "2021-12-28T13:35:45.999934Z",
     "start_time": "2021-12-28T13:35:45.930363Z"
    },
    "cellView": "form",
    "id": "XKl1WmkfUxDi",
    "solution2": "hidden"
   },
   "outputs": [],
   "source": [
    "#@title Resposta\n",
    "serie_owid = pd.read_csv(\n",
    "    \"https://raw.githubusercontent.com/owid/covid-19-data/master/public/data/latest/owid-covid-latest.csv\"\n",
    ").set_index(\"iso_code\")[\"total_cases\"]\n",
    "\n",
    "remover = [s for s in serie_owid.index if s.startswith(\"OWID_\")]\n",
    "serie_owid.drop(index=remover, inplace=True)\n",
    "serie_owid"
   ]
  },
  {
   "cell_type": "markdown",
   "metadata": {
    "id": "B8OZ8Y1nh_LE"
   },
   "source": [
    "---"
   ]
  },
  {
   "cell_type": "markdown",
   "metadata": {
    "id": "phHvKHx-h_LF"
   },
   "source": [
    "## Preenchimento de Nulos "
   ]
  },
  {
   "cell_type": "markdown",
   "metadata": {
    "id": "tosKxMrVh_LF"
   },
   "source": [
    "Um dos problemas mais recorrentes ao lidar com bases de dados é encontrar valores nulos dentro de determinadas colunas. Pensando nisso o pandas vem com uma série de funcionalidades que permitem preencher esses valores"
   ]
  },
  {
   "cell_type": "code",
   "execution_count": null,
   "metadata": {},
   "outputs": [],
   "source": []
  },
  {
   "cell_type": "markdown",
   "metadata": {
    "id": "sde1oRKUh_LF"
   },
   "source": [
    "fillna -> preenche os valores nulos com o valor determinado"
   ]
  },
  {
   "cell_type": "code",
   "execution_count": null,
   "metadata": {},
   "outputs": [],
   "source": []
  },
  {
   "cell_type": "markdown",
   "metadata": {
    "id": "apWGawtvh_LF"
   },
   "source": [
    "ffill -> Preenche os valores nulos com o primeiro valor anterior não nulo"
   ]
  },
  {
   "cell_type": "code",
   "execution_count": null,
   "metadata": {},
   "outputs": [],
   "source": []
  },
  {
   "cell_type": "markdown",
   "metadata": {
    "id": "V9plVpyDh_LG"
   },
   "source": [
    "bfill -> Preenche os valores nulos com o primeiro valor posterior não nulo"
   ]
  },
  {
   "cell_type": "code",
   "execution_count": null,
   "metadata": {},
   "outputs": [],
   "source": []
  },
  {
   "cell_type": "markdown",
   "metadata": {
    "id": "NmB-P5erUxDj"
   },
   "source": [
    "---"
   ]
  },
  {
   "cell_type": "markdown",
   "metadata": {
    "id": "TaM6skNaUxDj"
   },
   "source": [
    "**Exercício**\n",
    "\n",
    "Abaixo carregamos os dados de índice de desenvolvimento humano para países Africanos. Você irá notar que há alguns valores nulos dentro dessa base. Preenche esses valores nulos com o valor médio da base."
   ]
  },
  {
   "cell_type": "code",
   "execution_count": null,
   "metadata": {
    "ExecuteTime": {
     "end_time": "2021-12-28T13:43:17.224389Z",
     "start_time": "2021-12-28T13:43:17.157568Z"
    },
    "id": "lKEF9QXUUxDk",
    "solution2": "hidden",
    "solution2_first": true
   },
   "outputs": [],
   "source": [
    "serie_owid = pd.read_csv(\n",
    "    \"https://raw.githubusercontent.com/owid/covid-19-data/master/public/data/latest/owid-covid-latest.csv\"\n",
    ").loc[\n",
    "    lambda f: (f[\"continent\"] == \"Africa\")\n",
    "    | (f[\"location\"] == \"Africa\")\n",
    "].set_index(\"iso_code\")[\"human_development_index\"]"
   ]
  },
  {
   "cell_type": "code",
   "execution_count": null,
   "metadata": {
    "ExecuteTime": {
     "end_time": "2021-12-28T13:45:48.545333Z",
     "start_time": "2021-12-28T13:45:48.454181Z"
    },
    "cellView": "form",
    "id": "KsYeQ47cUxDk",
    "solution2": "hidden"
   },
   "outputs": [],
   "source": [
    "#@title Resposta\n",
    "serie_owid = pd.read_csv(\n",
    "    \"https://raw.githubusercontent.com/owid/covid-19-data/master/public/data/latest/owid-covid-latest.csv\"\n",
    ").loc[\n",
    "    lambda f: (f[\"continent\"] == \"Africa\")\n",
    "    | (f[\"location\"] == \"Africa\")\n",
    "].set_index(\"iso_code\")[\"human_development_index\"]\n",
    "\n",
    "media = np.mean(serie_owid.dropna().values)\n",
    "serie_owid.fillna(media, inplace=True)\n",
    "serie_owid"
   ]
  },
  {
   "cell_type": "markdown",
   "metadata": {
    "id": "lYtrqu1Ch_LG"
   },
   "source": [
    "---"
   ]
  },
  {
   "cell_type": "markdown",
   "metadata": {
    "id": "j3Ttn1i35duh"
   },
   "source": [
    "## Funções e Métodos"
   ]
  },
  {
   "cell_type": "markdown",
   "metadata": {
    "id": "srTuQuyMh_LH"
   },
   "source": [
    "Tal como no numpy a biblioteca pandas vem com uma série de funcionalidades que permitem trabalhar os dados de maneira rápida. Como pandas e numpy são intimamentes relacionados é possível utilizar todas as funções de numpy que vimos anteriormente nas séries"
   ]
  },
  {
   "cell_type": "code",
   "execution_count": null,
   "metadata": {},
   "outputs": [],
   "source": []
  },
  {
   "cell_type": "markdown",
   "metadata": {
    "id": "YuTH0SNBh_LI"
   },
   "source": [
    "Entretanto, no pandas, diferente do numpy, a maior parte dessas facilidades vem no formato de métodos, ou seja, estão associados a uma instância de série, por exemplo. Desta forma, destacamos abaixo a equivalência entre diferentes funções que vimos no numpy e sua contraparte no pandas"
   ]
  },
  {
   "cell_type": "markdown",
   "metadata": {
    "id": "Qips-C5Ph_LI"
   },
   "source": [
    "Numpy             | Pandas     | Descrição                                                         | \n",
    ":-----------------|:-----------|:-------------------------------------------------------------------|\n",
    " np.mean          |  .mean     |  Calcula a média                                                   |\n",
    " np.median        |  .median   |  Calcula a mediana                                                 |\n",
    " np.min           |  .min      |  Calcula o valor mínimo                                            |\n",
    " np.max           |  .max      |  Calcula o valor máximo                                            |\n",
    " np.std           |  .std      |  Calcula o desvio-padrão                                           |\n",
    " np.var           |  .var      |  Calcula a variância                                               |\n",
    " np.percentile    |  .quantile |  Calcula o percentil específicado                                  |\n",
    " np.sum           |  .sum      |  Calcula a soma de todos os elementos                              |\n",
    " np.count_nonzero |  **N/A**   | Realiza a contagem dos elementos não zeros do array                |\n",
    " np.unique        |  .unique   |  Obtém os valores únicos de um array                               |\n",
    " np.ceil          |  **N/A**   |  Arredonda os valores de um array para cima                        |\n",
    " np.floor         |  **N/A**   |  Arredonda os valores de um array para baixo                       |\n",
    " np.round         |  .round    |  Arredonda os valores de um array para as casas decimais desejadas |\n",
    " np.trunc         |  .truncate |  Remove as casas decimais do valor numérico                        |\n",
    " np.abs           |  .abs      |  Calcula o valor absoluto dos elementos                            |\n",
    " np.sign          |  **N/A**   |  Obtém os sinais dos números de um array                           |\n",
    " np.diff          | .diff      | Obtém a diferença entre valores sequenciais do array               |\n",
    " np.cumsum        | .cumsum    | Obtém a soma dos valores cumulativos                               |\n",
    " np.cummin        | .cummin    | Obtém o valor mínimo cumulativo do array                           |\n",
    " np.cummax        | .cummax    | Obtém o valor máximo cumulativo do array                           |\n",
    " np.cumprod       | .cumprod   | Obtém o valor produto cumulativo do array                          |"
   ]
  },
  {
   "cell_type": "code",
   "execution_count": null,
   "metadata": {},
   "outputs": [],
   "source": []
  },
  {
   "cell_type": "markdown",
   "metadata": {
    "id": "8bCf2e-Th_LI"
   },
   "source": [
    "Há, entretanto, alguns outros métodos que são exclusivos do pandas, mas são muito úteis\n",
    "\n",
    "- .describe: Gera o resumo estatístico da série\n",
    "- .mode: O valor da moda da série\n",
    "- .count: Obtém a contagem de elementos não nulos\n",
    "- .nunique: Conta o total de elementos únicos\n",
    "- .value_counts: Produz o número de ocorrências de cada elemento na série\n",
    "- .clip: Força os elementos da série a estarem dentro de um determinado intervalo\n",
    "- .pct_change: Variação percentual entre elementos consecutivos da série\n",
    "- .shift: Desloca a série por um certo número de elementos"
   ]
  },
  {
   "cell_type": "code",
   "execution_count": null,
   "metadata": {},
   "outputs": [],
   "source": []
  },
  {
   "cell_type": "markdown",
   "metadata": {
    "id": "LY6zwR17h_LK"
   },
   "source": [
    "Há ainda outras funcionalidades mais desconhecidas como is_monotonic, ou nlargest, mas não tem como saber tudo o que realmente existe. Conforme você resolve problemas e programa você passa a conhecer cada vez mais essas funções, mas a que apresentamos aqui são as principais"
   ]
  },
  {
   "cell_type": "markdown",
   "metadata": {
    "id": "rg0rApkKh_LK"
   },
   "source": [
    "---"
   ]
  },
  {
   "cell_type": "markdown",
   "metadata": {
    "id": "VGm144hOh_LK"
   },
   "source": [
    "**Exercício**\n",
    "\n",
    "Obtenha os indices dos máximos locais de uma série"
   ]
  },
  {
   "cell_type": "code",
   "execution_count": null,
   "metadata": {
    "ExecuteTime": {
     "end_time": "2021-09-20T12:33:03.643779Z",
     "start_time": "2021-09-20T12:33:03.631811Z"
    },
    "id": "7HX7csgyh_LK",
    "solution2": "hidden",
    "solution2_first": true
   },
   "outputs": [],
   "source": [
    "ser = pd.Series([2, 10, 3, 4, 9, 10, 2, 7, 3])"
   ]
  },
  {
   "cell_type": "code",
   "execution_count": null,
   "metadata": {
    "cellView": "form",
    "id": "TrolBPsKh_LK",
    "solution2": "hidden"
   },
   "outputs": [],
   "source": [
    "#@title Resposta\n",
    "ser = pd.Series([2, 10, 3, 4, 9, 10, 2, 7, 3])\n",
    "dd = np.diff(np.sign(np.diff(ser)))\n",
    "maximos = np.where(dd == -2)[0] + 1\n",
    "maximos"
   ]
  },
  {
   "cell_type": "markdown",
   "metadata": {
    "id": "OZdfB1bBh_LL"
   },
   "source": [
    "---"
   ]
  },
  {
   "cell_type": "markdown",
   "metadata": {
    "id": "PS6tngC95duh"
   },
   "source": [
    "## \"Vetorização\" "
   ]
  },
  {
   "cell_type": "markdown",
   "metadata": {
    "id": "_iw9nZurh_LL"
   },
   "source": [
    "Tal como o numpy o pandas vem com uma funcionalidade de \"vetorização\". Este nome está entre parênteses porque não segue exatamente a mesma lógica e propriedades internas do numpy, entretanto o resultado é o mesmo: Funções customizadas que são executadas de forma mais eficiente ao longo de uma série de dados."
   ]
  },
  {
   "cell_type": "markdown",
   "metadata": {
    "id": "1QLjKnRSh_LL"
   },
   "source": [
    "Há duas maneiras de fazer isso em pandas"
   ]
  },
  {
   "cell_type": "markdown",
   "metadata": {
    "id": "LGudeLZEh_LL"
   },
   "source": [
    "apply -> Aplica uma função sobre cada elemento de uma série"
   ]
  },
  {
   "cell_type": "code",
   "execution_count": null,
   "metadata": {},
   "outputs": [],
   "source": []
  },
  {
   "cell_type": "markdown",
   "metadata": {
    "id": "mTz_Caju5dui"
   },
   "source": [
    "map -> Mapeia os valores de uma série de acordo com uma função"
   ]
  },
  {
   "cell_type": "code",
   "execution_count": null,
   "metadata": {},
   "outputs": [],
   "source": []
  },
  {
   "cell_type": "markdown",
   "metadata": {
    "id": "AZATbyKTh_LM"
   },
   "source": [
    "Ué?! Mas qual a diferença? Bom, existe uma diferença sutil primeiro na maneira como eles funcionam. O apply é uma função que trabalha por eixos, por isso podemos roda-lo tanto para executar um processo em linhas quanto em colunas (veremos em DataFrames como fazer isso) enquanto que o map substituí uma valor por outro na série de acordo com a função.\n",
    "\n",
    "Com base nisso quem você acha que é mais eficiente?"
   ]
  },
  {
   "cell_type": "code",
   "execution_count": null,
   "metadata": {},
   "outputs": [],
   "source": []
  },
  {
   "cell_type": "markdown",
   "metadata": {
    "id": "x-cAUhWXh_LM"
   },
   "source": [
    "---"
   ]
  },
  {
   "cell_type": "markdown",
   "metadata": {
    "id": "j30CK97-h_LM"
   },
   "source": [
    "**Exercício**\n",
    "\n",
    "Dada uma série de strings, calcule o número de vogais em cada uma"
   ]
  },
  {
   "cell_type": "code",
   "execution_count": null,
   "metadata": {
    "ExecuteTime": {
     "end_time": "2021-09-20T12:33:22.765655Z",
     "start_time": "2021-09-20T12:33:22.751686Z"
    },
    "id": "WP-8qOHvh_LN",
    "solution2": "hidden",
    "solution2_first": true
   },
   "outputs": [],
   "source": [
    "ser = pd.Series([\"Maça\", \"Laranja\", \"Plano\", \"Python\", \"Dinheiro\"])"
   ]
  },
  {
   "cell_type": "code",
   "execution_count": null,
   "metadata": {
    "cellView": "form",
    "id": "C2-bp0hwh_LN",
    "solution2": "hidden"
   },
   "outputs": [],
   "source": [
    "#@title Resposta\n",
    "ser = pd.Series([\"Maça\", \"Laranja\", \"Plano\", \"Python\", \"Dinheiro\"])\n",
    "ser.map(lambda x: sum([x.count(i) for i in list(\"aeiou\")]))"
   ]
  },
  {
   "cell_type": "markdown",
   "metadata": {
    "id": "K6xVSY1Th_LN"
   },
   "source": [
    "---"
   ]
  },
  {
   "cell_type": "markdown",
   "metadata": {
    "id": "e3ZglG1Fh_LN"
   },
   "source": [
    "## Tipos de Dados "
   ]
  },
  {
   "cell_type": "markdown",
   "metadata": {
    "id": "r1pjHxEXh_LN"
   },
   "source": [
    "Até agora estivemos trabalhandos com os dados sem se preocupar muito com a tipagem do mesmo. Entretanto, tal como numpy, a tipagem de dados é bastante relevante no pandas. Diriamos que é até mais relevante, porque dependendo do tipo dos dados há algumas funcionalidades adicionais que podem ser aplicadas e facilitam trabalhar com os dados, vamos ver a seguir."
   ]
  },
  {
   "cell_type": "markdown",
   "metadata": {
    "id": "8vyHiU_Fh_LN"
   },
   "source": [
    "### Numéricos "
   ]
  },
  {
   "cell_type": "markdown",
   "metadata": {
    "id": "MF1pLSfVh_LN"
   },
   "source": [
    "As variáveis de tipo numérico são exatamente as mesmas que já vimos em numpy. Inclusive a conversão de tipos é feita exatamente da mesma maneira, por meio do astype"
   ]
  },
  {
   "cell_type": "code",
   "execution_count": null,
   "metadata": {},
   "outputs": [],
   "source": []
  },
  {
   "cell_type": "markdown",
   "metadata": {
    "id": "DZ79LY0zh_LO"
   },
   "source": [
    "---"
   ]
  },
  {
   "cell_type": "markdown",
   "metadata": {
    "id": "B4yCWArHh_LO"
   },
   "source": [
    "### Strings "
   ]
  },
  {
   "cell_type": "markdown",
   "metadata": {
    "id": "OKNBuSp-h_LO"
   },
   "source": [
    "O pandas vem com uma série de funcionalidades próprias que permitem utilizar os principais métodos de strings do python só que de maneira vetorizada. Para isso, basta tomar a série e colocar o prefixo .str antes do método e executa-lo"
   ]
  },
  {
   "cell_type": "code",
   "execution_count": null,
   "metadata": {},
   "outputs": [],
   "source": []
  },
  {
   "cell_type": "markdown",
   "metadata": {
    "id": "Ohuip37Oh_LP"
   },
   "source": [
    "Abaixo, apenas para relembrar, colocamos os principais métodos utilizados.\n",
    "\n"
   ]
  },
  {
   "cell_type": "markdown",
   "metadata": {
    "id": "UqzY3D3oh_LP"
   },
   "source": [
    "- contains: Testa se a string contém um determinado padrão de expressão regular\n",
    "- count: Conta o número de ocorrências de uma substring dentro da string\n",
    "- find: Devolve o índice de ocorrência de uma substring dentro da string (devolve -1 se não for encontrado)\n",
    "- isalpha: Checa se todos os caracteres da string são letras\n",
    "- isdigit: Checa se a string é um número\n",
    "- len: Obtém o tamanho da string\n",
    "- strip: Elimina espaços vazios nos extremos da string\n",
    "- startswith: Checa se a string começa com uma determinada sub-string\n",
    "- upper: Converte a string para maiúsculo\n",
    "- lower: Converte a string para minúsculo\n",
    "- split: Divide a string de acordo com uma sub-string (cada elemento da série passará a ser uma lista)"
   ]
  },
  {
   "cell_type": "code",
   "execution_count": null,
   "metadata": {},
   "outputs": [],
   "source": []
  },
  {
   "cell_type": "markdown",
   "metadata": {
    "id": "f-OFSpvAh_LP"
   },
   "source": [
    "Além dos métodos, a sintaxe de .str permite realizar o slicing nos elementos da string"
   ]
  },
  {
   "cell_type": "code",
   "execution_count": null,
   "metadata": {},
   "outputs": [],
   "source": []
  },
  {
   "cell_type": "markdown",
   "metadata": {
    "id": "nR-TctN8h_LQ"
   },
   "source": [
    "Uma questão importante a ser notada, é que uma boa parte dos métodos para strings no pandas também vem da biblioteca \"re\", uma vez que trabalhar com dados de texto muitas vezes envolve a checagem de expressões regulares. \n",
    "\n",
    "O ensino de expressão regulares está além do escopo deste curso, entretanto eu recomendo as seguintes fontes para estudo:\n",
    "- https://www.youtube.com/watch?v=sa-TUpSx1JA&ab_channel=CoreySchafer\n",
    "- https://www.youtube.com/watch?v=wBI0yv2FG6U&ab_channel=Ot%C3%A1vioMiranda"
   ]
  },
  {
   "cell_type": "code",
   "execution_count": null,
   "metadata": {},
   "outputs": [],
   "source": []
  },
  {
   "cell_type": "markdown",
   "metadata": {
    "id": "_H236BUph_LQ"
   },
   "source": [
    "---"
   ]
  },
  {
   "cell_type": "markdown",
   "metadata": {
    "id": "0akU6BkSh_LQ"
   },
   "source": [
    "**Exercício**\n",
    "\n",
    "Dada uma série de strings utilize a expressão regular fornecida para encontrar os elementos que são e-mails válidos"
   ]
  },
  {
   "cell_type": "code",
   "execution_count": null,
   "metadata": {
    "ExecuteTime": {
     "end_time": "2021-09-20T12:33:28.103787Z",
     "start_time": "2021-09-20T12:33:28.094843Z"
    },
    "id": "DRicUqfyh_LQ",
    "solution2": "hidden",
    "solution2_first": true
   },
   "outputs": [],
   "source": [
    "emails = pd.Series([\"compre livros na amazom.com\", \"rameses@egypt.com\", \"matt@t.co\", \"narendra@modi.com\"])\n",
    "padrao = \"[A-Za-z0-9._%+-]+@[A-Za-z0-9.-]+\\\\.[A-Za-z]{2,4}\""
   ]
  },
  {
   "cell_type": "code",
   "execution_count": null,
   "metadata": {
    "cellView": "form",
    "id": "QgguJSw8h_LQ",
    "solution2": "hidden"
   },
   "outputs": [],
   "source": [
    "#@title Resposta\n",
    "import re\n",
    "\n",
    "emails = pd.Series([\"compre livros na amazom.com\", \"rameses@egypt.com\", \"matt@t.co\", \"narendra@modi.com\"])\n",
    "padrao = \"[A-Za-z0-9._%+-]+@[A-Za-z0-9.-]+\\\\.[A-Za-z]{2,4}\"\n",
    "\n",
    "emails[emails.str.match(padrao, flags=re.IGNORECASE)]"
   ]
  },
  {
   "cell_type": "markdown",
   "metadata": {
    "id": "LH5GzOa5h_LR"
   },
   "source": [
    "---"
   ]
  },
  {
   "cell_type": "markdown",
   "metadata": {
    "id": "3aQ5kBBrh_LR"
   },
   "source": [
    "### Objetos "
   ]
  },
  {
   "cell_type": "markdown",
   "metadata": {
    "id": "Jzyxr8S7h_LR"
   },
   "source": [
    "Além de texto e números, na verdade o pandas aceita qualquer objeto do Python como elemento de suas séries, apesar dos mais comuns de serem utilizados são listas, dicionários, tuplas e sets."
   ]
  },
  {
   "cell_type": "code",
   "execution_count": null,
   "metadata": {},
   "outputs": [],
   "source": []
  },
  {
   "cell_type": "markdown",
   "metadata": {
    "id": "ryE1Z87Jh_LR"
   },
   "source": [
    "Uma das propriedades interessantes do pandas é a capacidade de executar determinadas funções de agregação contanto que exista essa função definida para um objeto. Por exemplo, a soma de duas listas é a concatenação das mesmas, logo:"
   ]
  },
  {
   "cell_type": "code",
   "execution_count": null,
   "metadata": {},
   "outputs": [],
   "source": []
  },
  {
   "cell_type": "markdown",
   "metadata": {
    "id": "8tlC-ICKh_LS"
   },
   "source": [
    "---"
   ]
  },
  {
   "cell_type": "markdown",
   "metadata": {
    "id": "I6Thu3kEh_LS"
   },
   "source": [
    "**Exercício**\n",
    "\n",
    "Obtenha uma contagem das letras contidas numa série"
   ]
  },
  {
   "cell_type": "code",
   "execution_count": null,
   "metadata": {
    "ExecuteTime": {
     "end_time": "2021-09-20T12:33:34.890122Z",
     "start_time": "2021-09-20T12:33:34.879180Z"
    },
    "id": "k43iF1Ovh_LS",
    "solution2": "hidden",
    "solution2_first": true
   },
   "outputs": [],
   "source": [
    "ser = pd.Series([\"Maça\", \"Laranja\", \"Plano\", \"Python\", \"Dinheiro\"])"
   ]
  },
  {
   "cell_type": "code",
   "execution_count": null,
   "metadata": {
    "cellView": "form",
    "id": "42Td6juKh_LS",
    "solution2": "hidden"
   },
   "outputs": [],
   "source": [
    "#@title Resposta\n",
    "ser = pd.Series([\"Maça\", \"Laranja\", \"Plano\", \"Python\", \"Dinheiro\"])\n",
    "pd.Series(ser.str.lower().apply(list).sum()).value_counts()"
   ]
  },
  {
   "cell_type": "markdown",
   "metadata": {
    "id": "5HwN9srqh_LT"
   },
   "source": [
    "---"
   ]
  },
  {
   "cell_type": "markdown",
   "metadata": {
    "id": "YP2vpH0jh_LT"
   },
   "source": [
    "### Categóricos "
   ]
  },
  {
   "cell_type": "markdown",
   "metadata": {
    "id": "RVq4cQW2h_LT"
   },
   "source": [
    "As vezes você tem dados de texto mas você não pretende trabalha-los de alguma forma. Isto é muito comum quando nós temos variáveis qualitativas, como por exemplo cor, ou mesmo classificações, como escola pública e privada. Neste caso a mesma string aparece várias e várias vezes na mesma coluna e o consumo de memória é relativamente alto, sendo que você não está aproveitando as funcionalidades de texto que o pandas oferece.\n",
    "\n",
    "Em bancos de dados quando isso acontece, geralmente o que se faz é criar uma tabela com o de-para numérico dessas classificações. Por exemplo 0 = Pública e 1 = Privada. Assim, você pode colocar os números no lugar do texto e reduzir dratiscamente o consumo de memória.\n",
    "\n",
    "O pandas tem uma solução muito elegante para esses problemas que são as variáveis categóricas"
   ]
  },
  {
   "cell_type": "code",
   "execution_count": null,
   "metadata": {},
   "outputs": [],
   "source": []
  },
  {
   "cell_type": "markdown",
   "metadata": {
    "id": "zx5COAzrh_LT"
   },
   "source": [
    "Ao converter uma variável para categórica o pandas gera um novo objeto Category, que realiza exatamente este de-para sem a necessidade de realizar um cruzamento com outra tabela. Internamente, as operações de busca, por exemplo, podem ser feitas com strings normalmente"
   ]
  },
  {
   "cell_type": "code",
   "execution_count": null,
   "metadata": {},
   "outputs": [],
   "source": []
  },
  {
   "cell_type": "markdown",
   "metadata": {
    "id": "3JEUv6Tuh_LU"
   },
   "source": [
    "E podemos inclusive aplicar as funcionalidades de strings, entretanto neste caso, internamente o pandas irá converter a coluna de volta para o tipo de texto e então aplicar a função pedida"
   ]
  },
  {
   "cell_type": "code",
   "execution_count": null,
   "metadata": {},
   "outputs": [],
   "source": []
  },
  {
   "cell_type": "markdown",
   "metadata": {
    "id": "JV3ENnPnh_LU"
   },
   "source": [
    "É possível inclusive criar categorias como tipos proprietários a serem usadas. Por exemplo, suponhamos que além das cores relatadas também houvesse a possibilidade da série conter a cor Verde, mas nenhuma entidade na amostra continha essa cor. Ao converter para categoria usando astype o pandas utiliza apenas as categorias que ele conhece, entretanto uma meneira mais robusta de lidar com isso seria:"
   ]
  },
  {
   "cell_type": "code",
   "execution_count": null,
   "metadata": {},
   "outputs": [],
   "source": []
  },
  {
   "cell_type": "markdown",
   "metadata": {
    "id": "RAiaYdiGh_LV"
   },
   "source": [
    "---"
   ]
  },
  {
   "cell_type": "markdown",
   "metadata": {
    "id": "3rwKeDozh_LV"
   },
   "source": [
    "**Exercício**\n",
    "\n",
    "Calcule a memória consumida antes e depois da conversão de uma série para valores categóricos"
   ]
  },
  {
   "cell_type": "code",
   "execution_count": null,
   "metadata": {
    "ExecuteTime": {
     "end_time": "2021-09-20T12:33:59.101559Z",
     "start_time": "2021-09-20T12:33:59.087596Z"
    },
    "id": "4fAjPqMCh_LV",
    "solution2": "hidden",
    "solution2_first": true
   },
   "outputs": [],
   "source": [
    "np.random.seed(42)\n",
    "ser = pd.Series(np.random.choice([\"Azul\", \"Amarelo\", \"Vermelho\"], size=1000))"
   ]
  },
  {
   "cell_type": "code",
   "execution_count": null,
   "metadata": {
    "cellView": "form",
    "id": "jcUt4H-Ph_LV",
    "solution2": "hidden"
   },
   "outputs": [],
   "source": [
    "#@title Resposta\n",
    "np.random.seed(42)\n",
    "for s in [10, 100, 1000, 10000, 100000, 1000000]:\n",
    "  ser = pd.Series(np.random.choice([\"Azul\", \"Amarelo\", \"Vermelho\"], size=s))\n",
    "  m_ant = ser.memory_usage()\n",
    "  \n",
    "  ser = ser.astype(\"category\")\n",
    "  m_desp = ser.memory_usage()\n",
    "\n",
    "  print(f\"Tamanho = %7d:\" % s, end=\" \")\n",
    "  print(\"Antes > %7d\" % m_ant, end=\" | \")\n",
    "  print(\"Depois > %7d\" % m_desp, end=\" | \")\n",
    "  print(\"Delta > %8d\" % (m_desp - m_ant), end=\" | \")\n",
    "  print(\"Var > %3d%%\" % (100 * (m_desp - m_ant) / m_ant))"
   ]
  },
  {
   "cell_type": "markdown",
   "metadata": {
    "id": "iHffLaIDh_LW"
   },
   "source": [
    "---"
   ]
  },
  {
   "cell_type": "markdown",
   "metadata": {
    "id": "OqxsLM3Dh_LW"
   },
   "source": [
    "### Datetime "
   ]
  },
  {
   "cell_type": "markdown",
   "metadata": {
    "id": "zRnR09xKh_LW"
   },
   "source": [
    "Um tipo de estrutura com a qual nós lidamos recorrentemente são os dados temporais. O Python contém uma biblioteca nativa datetime, que contém uma série de funcionalidades para lidar com datas"
   ]
  },
  {
   "cell_type": "code",
   "execution_count": null,
   "metadata": {},
   "outputs": [],
   "source": []
  },
  {
   "cell_type": "markdown",
   "metadata": {
    "id": "xbQwp7-ch_LW"
   },
   "source": [
    "Um objeto data nada mais é do que uma estrura que conta os segundos desde 1970-01-01 e permite facilitar calculos entre datas que não são simples de realizar numericamente"
   ]
  },
  {
   "cell_type": "code",
   "execution_count": null,
   "metadata": {},
   "outputs": [],
   "source": []
  },
  {
   "cell_type": "markdown",
   "metadata": {
    "id": "X8p2xVrTh_LW"
   },
   "source": [
    "Por exemplo, suponhamos que eu queira somar 5 dias a uma determinada data"
   ]
  },
  {
   "cell_type": "code",
   "execution_count": null,
   "metadata": {},
   "outputs": [],
   "source": []
  },
  {
   "cell_type": "markdown",
   "metadata": {
    "id": "X2TlxHZoh_LX"
   },
   "source": [
    "Ou que eu queira obter características como o dia da semana (0 = Segunda)"
   ]
  },
  {
   "cell_type": "code",
   "execution_count": null,
   "metadata": {},
   "outputs": [],
   "source": []
  },
  {
   "cell_type": "markdown",
   "metadata": {
    "id": "2npAaAyBh_LX"
   },
   "source": [
    "Abaixo listamos os principais atributos e funções que a biblioteca datetime contém\n",
    "\n",
    "**Funções**\n",
    "- datetime.datetime(): Define um novo objeto datetime passando os dados de ano, mês, dia, hora, minutos, segundos, microsegundos e fuso\n",
    "- datetime.timedelta(): Permite somar um intervalo de tempo a uma data\n",
    "- datetime.datetime.now(): Obtém o dia e hora neste momento (utiliza o fuso horário do computador se nada for passado)\n",
    "- datetime.datetime.strptime(): Formata uma string em um datetime\n",
    "\n",
    "**Métodos do Datetime**\n",
    "- data.year/month/day/hour/minute/second/microsecond: Obtém informação sobre a data\n",
    "- data.weekday(): Dia da semana da data (sendo 0 = segunda-feira)\n",
    "- data.strftime(): Formata a data numa string "
   ]
  },
  {
   "cell_type": "code",
   "execution_count": null,
   "metadata": {},
   "outputs": [],
   "source": []
  },
  {
   "cell_type": "markdown",
   "metadata": {
    "id": "zxKHR3ZPh_LX"
   },
   "source": [
    "Uma parte bastante importante pra nós desse objeto é a formatação de strings, uma vez que será bastante comum realizar a conversão de strings para objetos datetime. Esta formatação é feita utilizando a sintaxe do % na qual cada caracter representa um tipo de formatação para o datetime. Abaixo descrevemos essas formações:\n",
    "\n",
    "<img src=\"https://i.stack.imgur.com/i6Hg7.jpg\" />"
   ]
  },
  {
   "cell_type": "markdown",
   "metadata": {
    "ExecuteTime": {
     "end_time": "2021-09-17T21:28:55.987119Z",
     "start_time": "2021-09-17T21:28:55.982132Z"
    },
    "id": "DC_S3rQAh_LY"
   },
   "source": [
    "Todas essas funcionalidades giram ao redor do objeto datetime, ao qual o pandas adaptou, tal como strings, de forma que podemos utiliza-los dentro de uma série usando o prefixo dt"
   ]
  },
  {
   "cell_type": "code",
   "execution_count": null,
   "metadata": {},
   "outputs": [],
   "source": []
  },
  {
   "cell_type": "markdown",
   "metadata": {
    "id": "BETb-9NTh_LY"
   },
   "source": [
    "Apesar de ser possível converter strings para datetime aplicando o datetime.datetime.strptime, o mais comum é utilizar as funções pré-prontas do pandas para isso como o pd.to_datetime"
   ]
  },
  {
   "cell_type": "code",
   "execution_count": null,
   "metadata": {},
   "outputs": [],
   "source": []
  },
  {
   "cell_type": "markdown",
   "metadata": {
    "id": "HCrIdA-gh_LZ"
   },
   "source": [
    "De maneira análoga se quisessemos poderíamos utilizar o timedelta para adicionar tempo as datas, entretanto o pandas vem com o pd.DateOffset que obtém os mesmos resultados"
   ]
  },
  {
   "cell_type": "code",
   "execution_count": null,
   "metadata": {},
   "outputs": [],
   "source": []
  },
  {
   "cell_type": "markdown",
   "metadata": {
    "id": "fhAdo9ggh_LZ"
   },
   "source": [
    "Além disso, uma das funções mais utilizadas do pandas nos permite facilmente criar arrays de datas, o pd.date_range"
   ]
  },
  {
   "cell_type": "code",
   "execution_count": null,
   "metadata": {},
   "outputs": [],
   "source": []
  },
  {
   "cell_type": "markdown",
   "metadata": {
    "id": "t3RkMhich_Ld"
   },
   "source": [
    "Por fim, é interessante notar que o pandas ainda permite operações entre séries de datatime"
   ]
  },
  {
   "cell_type": "code",
   "execution_count": null,
   "metadata": {},
   "outputs": [],
   "source": []
  },
  {
   "cell_type": "markdown",
   "metadata": {
    "id": "aUNE3bT3h_Ld"
   },
   "source": [
    "O resultado dessas operações é um objeto timedelta, que, tal como o datetime, tem suas propriedades"
   ]
  },
  {
   "cell_type": "code",
   "execution_count": null,
   "metadata": {},
   "outputs": [],
   "source": []
  },
  {
   "cell_type": "markdown",
   "metadata": {
    "id": "P9Pa_hvLh_Le"
   },
   "source": [
    "---"
   ]
  },
  {
   "cell_type": "markdown",
   "metadata": {
    "id": "o_FF50Lch_Le"
   },
   "source": [
    "**Exercício**\n",
    "\n",
    "Converta a string abaixo para um objeto datetime.\n",
    "\n",
    "Dica: Eu não te dei todas as ferramentas para resolver esse exercício então veja como combinar datetime com a biblioteca locale"
   ]
  },
  {
   "cell_type": "code",
   "execution_count": null,
   "metadata": {
    "ExecuteTime": {
     "end_time": "2021-09-20T13:43:37.294197Z",
     "start_time": "2021-09-20T13:43:37.276245Z"
    },
    "id": "xulmrvHYh_Le",
    "solution2": "hidden",
    "solution2_first": true
   },
   "outputs": [],
   "source": [
    "import locale\n",
    "\n",
    "ser = pd.Series([\n",
    "    \"1 de Janeiro de 2021\", \n",
    "    \"2 de Janeiro de 2021\", \n",
    "    \"3 de Janeiro de 2021\", \n",
    "    \"4 de Janeiro de 2021\", \n",
    "    \"5 de Janeiro de 2021\"\n",
    "])"
   ]
  },
  {
   "cell_type": "code",
   "execution_count": null,
   "metadata": {
    "cellView": "form",
    "id": "mfq3eVGLh_Le",
    "solution2": "hidden"
   },
   "outputs": [],
   "source": [
    "#@title Resposta\n",
    "import locale\n",
    "string = \"2 de Janeiro de 2021\"\n",
    "locale.setlocale(locale.LC_ALL, \"pt_BR.utf8\")\n",
    "\n",
    "ser = pd.Series([\n",
    "    \"1 de Janeiro de 2021\", \n",
    "    \"2 de Janeiro de 2021\", \n",
    "    \"3 de Janeiro de 2021\", \n",
    "    \"4 de Janeiro de 2021\", \n",
    "    \"5 de Janeiro de 2021\"\n",
    "])\n",
    "pd.to_datetime(ser, format=\"%d de %B de %Y\")"
   ]
  },
  {
   "cell_type": "markdown",
   "metadata": {
    "id": "k5eRxaLNh_Le"
   },
   "source": [
    "---"
   ]
  },
  {
   "cell_type": "markdown",
   "metadata": {
    "id": "olgk4fz6h_Le"
   },
   "source": [
    "## Operações Avançadas "
   ]
  },
  {
   "cell_type": "markdown",
   "metadata": {
    "id": "H1M9prM1h_Le"
   },
   "source": [
    "Além das operações que vimos anteriormente o pandas vem com algumas funcionalidades úteis que facilitam algumas operações mais complexas que veremos a seguir"
   ]
  },
  {
   "cell_type": "markdown",
   "metadata": {
    "id": "qpmgwylZh_Lf"
   },
   "source": [
    "rolling -> Percorre os valores de uma série de forma iterativa em blocos, permitindo realizar uma função de agregação sob esses blocos\n",
    "\n",
    "Parameters\n",
    "\n",
    "- window: int, offset, or BaseIndexer subclass\n",
    "    \n",
    "      Size of the moving window. This is the number of observations used for calculating the statistic. Each window will be a fixed size. If its an offset then this will be the time period of each window. Each window will be a variable sized based on the observations included in the time-period. This is only valid for datetimelike indexes. If a BaseIndexer subclass is passed, calculates the window boundaries based on the defined ``get_window_bounds`` method. Additional rolling keyword arguments, namely `min_periods`, `center`, and `closed` will be passed to `get_window_bounds`.\n",
    "    \n",
    "- min_periods: int, default None\n",
    "\n",
    "      Minimum number of observations in window required to have a value (otherwise result is NA). For a window that is specified by an offset, `min_periods` will default to 1. Otherwise, `min_periods` will default to the size of the window.\n",
    "\n",
    "- center : bool, default False\n",
    "    \n",
    "      Set the labels at the center of the window.\n",
    "\n",
    "- win_type : str, default None\n",
    "    \n",
    "      Provide a window type. If ``None``, all points are evenly weighted.\n",
    "\n",
    "- on : str, optional\n",
    "    \n",
    "      For a DataFrame, a datetime-like column or Index level on which to calculate the rolling window, rather than the DataFrame's index. Provided integer column is ignored and excluded from result since an integer index is not used to calculate the rolling window.\n",
    "\n",
    "- axis : int or str, default 0\n",
    "\n",
    "- closed : str, default None\n",
    "    \n",
    "      Make the interval closed on the 'right', 'left', 'both' or 'neither' endpoints. Defaults to 'right'."
   ]
  },
  {
   "cell_type": "code",
   "execution_count": null,
   "metadata": {},
   "outputs": [],
   "source": []
  },
  {
   "cell_type": "markdown",
   "metadata": {
    "id": "NVNvdxOzh_Lf"
   },
   "source": [
    "interpolate\n",
    "\n",
    "Parameters\n",
    "\n",
    "- method : str, default 'linear'\n",
    "    \n",
    "      Interpolation technique to use. One of:\n",
    "\n",
    "      * 'linear': Ignore the index and treat the values as equally spaced. This is the only method supported on MultiIndexes.\n",
    "      * 'time': Works on daily and higher resolution data to interpolate given length of interval.\n",
    "      * 'index', 'values': use the actual numerical values of the index.\n",
    "      * 'pad': Fill in NaNs using existing values.\n",
    "      * 'nearest', 'zero', 'slinear', 'quadratic', 'cubic', 'spline', 'barycentric', 'polynomial': Passed to `scipy.interpolate.interp1d`.\n",
    "      * 'krogh', 'piecewise_polynomial', 'spline', 'pchip', 'akima', 'cubicspline': Wrappers around the SciPy interpolation methods of similar names.\n",
    "      * 'from_derivatives': Refers to `scipy.interpolate.BPoly.from_derivatives`\n",
    "\n",
    "- axis : {{0 or 'index', 1 or 'columns', None}}, default None. \n",
    "        \n",
    "      Axis to interpolate along.\n",
    "\n",
    "- limit : int, optional\n",
    "      \n",
    "      Maximum number of consecutive NaNs to fill. Must be greater than 0.\n",
    "\n",
    "- inplace : bool, default False\n",
    "    \n",
    "      Update the data in place if possible.\n",
    "\n",
    "- limit_direction : {{'forward', 'backward', 'both'}}, Optional\n",
    "    \n",
    "      Consecutive NaNs will be filled in this direction.\n",
    "\n",
    "      If limit is specified:\n",
    "      * If 'method' is 'pad' or 'ffill', 'limit_direction' must be 'forward'.\n",
    "      * If 'method' is 'backfill' or 'bfill', 'limit_direction' must be 'backwards'.\n",
    "\n",
    "      If 'limit' is not specified:\n",
    "      * If 'method' is 'backfill' or 'bfill', the default is 'backward'\n",
    "      * else the default is 'forward'\n",
    "\n",
    "- limit_area : {{`None`, 'inside', 'outside'}}, default None\n",
    "    \n",
    "      If limit is specified, consecutive NaNs will be filled with this restriction.\n",
    "\n",
    "      * ``None``: No fill restriction.\n",
    "      * 'inside': Only fill NaNs surrounded by valid values (interpolate).\n",
    "      * 'outside': Only fill NaNs outside valid values (extrapolate).\n",
    "\n",
    "- downcast : optional, 'infer' or None, defaults to None\n",
    "    \n",
    "      Downcast dtypes if possible."
   ]
  },
  {
   "cell_type": "code",
   "execution_count": null,
   "metadata": {},
   "outputs": [],
   "source": []
  },
  {
   "cell_type": "markdown",
   "metadata": {
    "id": "FOFQILkih_Lg"
   },
   "source": [
    "---"
   ]
  },
  {
   "cell_type": "markdown",
   "metadata": {
    "id": "TMm0QkZzh_Lg"
   },
   "source": [
    "**Exercício**\n",
    "\n",
    "Usando a série abaixo, calcule a média móvel de mortes em 14 dias no Brasil e responda se a média móvel de mortes está subindo ou não, com base na comparação da média móvel de 14 dias atrás, na qual se essa razão for < -15%, a média está caindo, se for > +15% está subindo, caso contrário está em estabilidade "
   ]
  },
  {
   "cell_type": "code",
   "execution_count": null,
   "metadata": {
    "ExecuteTime": {
     "end_time": "2021-09-20T13:39:16.982146Z",
     "start_time": "2021-09-20T13:39:16.874279Z"
    },
    "id": "z4kd1Xa3h_Lg",
    "solution2": "hidden",
    "solution2_first": true
   },
   "outputs": [],
   "source": [
    "ser = pd.read_csv(\n",
    "    \"https://raw.githubusercontent.com/CSSEGISandData/COVID-19/master/csse_covid_19_data/csse_covid_19_time_series/time_series_covid19_deaths_global.csv\"\n",
    ").loc[lambda f: f[\"Country/Region\"] == \"Brazil\"].T.iloc[4:, 0]\n",
    "ser.name = \"Mortes\""
   ]
  },
  {
   "cell_type": "code",
   "execution_count": null,
   "metadata": {
    "cellView": "form",
    "id": "m1A2nyS1h_Lg",
    "solution2": "hidden"
   },
   "outputs": [],
   "source": [
    "#@title Resposta\n",
    "ser = pd.read_csv(\n",
    "    \"https://raw.githubusercontent.com/CSSEGISandData/COVID-19/master/csse_covid_19_data/csse_covid_19_time_series/time_series_covid19_deaths_global.csv\"\n",
    ").loc[lambda f: f[\"Country/Region\"] == \"Brazil\"].T.iloc[4:, 0]\n",
    "ser.name = \"Mortes\"\n",
    "\n",
    "mortes_por_dia = ser.diff()\n",
    "media_movel = mortes_por_dia.rolling(14).mean()\n",
    "media_movel_lag14 = media_movel.shift(14)\n",
    "var = media_movel / media_movel_lag14 - 1\n",
    "\n",
    "def tendencia(x):\n",
    "  if pd.isnull(x):\n",
    "    return None\n",
    "  elif x >= 0.15:\n",
    "    return \"Em Alta\"\n",
    "  elif x <= -0.15: \n",
    "    return \"Em Queda\"\n",
    "  else:\n",
    "    return \"Em Estabilidade\"\n",
    "\n",
    "var = var.map(tendencia)\n",
    "var.tail(30)"
   ]
  },
  {
   "cell_type": "markdown",
   "metadata": {
    "id": "9JjuChTVh_Lg"
   },
   "source": [
    "---"
   ]
  }
 ],
 "metadata": {
  "colab": {
   "collapsed_sections": [],
   "name": "Séries (Code Along).ipynb",
   "provenance": [
    {
     "file_id": "1ZeOQKdUB1FMUbSy2Sd76oktBBcEis6UV",
     "timestamp": 1643139715873
    }
   ],
   "toc_visible": true
  },
  "hide_input": false,
  "kernelspec": {
   "display_name": "Python 3 (ipykernel)",
   "language": "python",
   "name": "python3"
  },
  "language_info": {
   "codemirror_mode": {
    "name": "ipython",
    "version": 3
   },
   "file_extension": ".py",
   "mimetype": "text/x-python",
   "name": "python",
   "nbconvert_exporter": "python",
   "pygments_lexer": "ipython3",
   "version": "3.9.21"
  },
  "toc": {
   "base_numbering": 1,
   "nav_menu": {},
   "number_sections": true,
   "sideBar": true,
   "skip_h1_title": true,
   "title_cell": "Table of Contents",
   "title_sidebar": "Contents",
   "toc_cell": false,
   "toc_position": {
    "height": "calc(100% - 180px)",
    "left": "10px",
    "top": "150px",
    "width": "187px"
   },
   "toc_section_display": true,
   "toc_window_display": true
  },
  "varInspector": {
   "cols": {
    "lenName": 16,
    "lenType": 16,
    "lenVar": 40
   },
   "kernels_config": {
    "python": {
     "delete_cmd_postfix": "",
     "delete_cmd_prefix": "del ",
     "library": "var_list.py",
     "varRefreshCmd": "print(var_dic_list())"
    },
    "r": {
     "delete_cmd_postfix": ") ",
     "delete_cmd_prefix": "rm(",
     "library": "var_list.r",
     "varRefreshCmd": "cat(var_dic_list()) "
    }
   },
   "types_to_exclude": [
    "module",
    "function",
    "builtin_function_or_method",
    "instance",
    "_Feature"
   ],
   "window_display": false
  }
 },
 "nbformat": 4,
 "nbformat_minor": 1
}
